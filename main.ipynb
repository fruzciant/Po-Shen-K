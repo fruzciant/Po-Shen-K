{
 "cells": [
  {
   "cell_type": "markdown",
   "id": "d9aa2e93",
   "metadata": {},
   "source": [
    "Primero, empezaremos con una cuadrática de la forma:\n",
    "$ax² + bx + c = 0$.\n",
    "\n",
    "En la que $ a = 1 $, así que, $x²+bx+c=0$\n",
    "\n",
    "si $a \\neq 0 $, entonces, multiplicaremos ambos lados por $\\frac{1}{a}$. \\\n",
    "$\\frac{1}{a}(ax²+bx+c)= \\frac{1}{a}0$ \n",
    "lo que nos lleva, por propiedad conmutativa, a $x²+\\frac{bx}{a}+\\frac{c}{a}=0$, entonces, podremos empezar.\n"
   ]
  },
  {
   "cell_type": "code",
   "execution_count": null,
   "id": "f068d74e",
   "metadata": {},
   "outputs": [],
   "source": [
    "def quadratic(a,b,c):\n",
    "    if a == 1:\n",
    "        print(\"Hacer la ecuación\")\n",
    "    else:\n",
    "        a = 1 / a\n",
    "        b = b * 1 / a\n",
    "        c = c * 1 / a"
   ]
  },
  {
   "cell_type": "markdown",
   "id": "cc84012c",
   "metadata": {},
   "source": [
    "When we have the quadratic form as $ x^2 + bx + c = 0 $"
   ]
  }
 ],
 "metadata": {
  "kernelspec": {
   "display_name": "Python 3",
   "language": "python",
   "name": "python3"
  },
  "language_info": {
   "name": "python",
   "version": "3.13.7"
  }
 },
 "nbformat": 4,
 "nbformat_minor": 5
}
